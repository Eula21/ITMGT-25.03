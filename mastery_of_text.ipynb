{
 "cells": [
  {
   "cell_type": "code",
   "execution_count": 1,
   "id": "5d85e5b4-cb1b-4e7a-89ec-71bb2e0b47ac",
   "metadata": {},
   "outputs": [],
   "source": [
    "from urllib.request import urlopen\n",
    "\n",
    "with urlopen(\"https://www.gutenberg.org/cache/epub/10/pg10.txt\") as response:\n",
    "    pg10_bytes = response.read()\n",
    "    pg10 = pg10_bytes.decode(\"utf-8\")"
   ]
  },
  {
   "cell_type": "code",
   "execution_count": 2,
   "id": "22bbeeb1-2700-48ea-97bf-e6da9f37cf6a",
   "metadata": {},
   "outputs": [
    {
     "name": "stdout",
     "output_type": "stream",
     "text": [
      "How many lines does the string have? 99969 lines\n"
     ]
    }
   ],
   "source": [
    "#For counting lines\n",
    "\n",
    "pg_break = \"\\n\"\n",
    "\n",
    "line_count = (pg10_bytes.count(pg_break.encode(\"utf-8\"))) + 1\n",
    "\n",
    "print(f\"How many lines does the string have? {line_count} lines\")"
   ]
  },
  {
   "cell_type": "code",
   "execution_count": 3,
   "id": "3bc50356-cfff-4cfa-9f97-00270c0f3f39",
   "metadata": {},
   "outputs": [
    {
     "name": "stdout",
     "output_type": "stream",
     "text": [
      "How many words does the string have? 795227 words\n"
     ]
    }
   ],
   "source": [
    "#For counting words\n",
    "\n",
    "words = []\n",
    "current_word = \"\"\n",
    "for word in pg10:\n",
    "    for char in word:\n",
    "        if char.isalpha():\n",
    "            current_word += char\n",
    "        else:\n",
    "            if current_word:\n",
    "                words.append(current_word)\n",
    "            current_word = \"\"\n",
    "if current_word:\n",
    "    words.append(current_word)\n",
    "\n",
    "print(f\"How many words does the string have? {len(words)} words\")"
   ]
  },
  {
   "cell_type": "code",
   "execution_count": 4,
   "id": "19ae99b7-c24a-4748-b736-ca2795977859",
   "metadata": {},
   "outputs": [
    {
     "name": "stdout",
     "output_type": "stream",
     "text": [
      "How many times does the word \"apostle\", ignoring capitalization, appear in the string? 47 occurences\n"
     ]
    }
   ],
   "source": [
    "#For counting a specific word\n",
    "\n",
    "spec_word = \"apostle\"\n",
    "words = pg10.split()\n",
    "spec_count = 0\n",
    "\n",
    "for word in words:\n",
    "    cleaned_word = \"\"\n",
    "    for char in word:\n",
    "        if char.isalnum():\n",
    "            cleaned_word += char\n",
    "    if cleaned_word.lower() == spec_word:\n",
    "        spec_count += 1\n",
    "\n",
    "print(f'How many times does the word \"apostle\", ignoring capitalization, appear in the string? {spec_count} occurences')"
   ]
  },
  {
   "cell_type": "code",
   "execution_count": 5,
   "id": "7acf64b7-4bf3-4eff-bc84-806887fea025",
   "metadata": {},
   "outputs": [
    {
     "name": "stdout",
     "output_type": "stream",
     "text": [
      "What is the most common word, ignoring capitalization, in the string? the\n"
     ]
    }
   ],
   "source": [
    "#The most frequent word\n",
    "\n",
    "word_counts = {}\n",
    "\n",
    "for w in words:\n",
    "    if w.strip():\n",
    "        if w not in word_counts:\n",
    "            word_counts[w] = 1\n",
    "        else:\n",
    "            word_counts[w] += 1\n",
    "\n",
    "most_common_word = None\n",
    "max_count = 0\n",
    "\n",
    "for word, count in word_counts.items():\n",
    "    if count > max_count:\n",
    "        most_common_word = word\n",
    "        max_count = count\n",
    "\n",
    "print(f\"What is the most common word, ignoring capitalization, in the string? {most_common_word}\")\n"
   ]
  },
  {
   "cell_type": "code",
   "execution_count": null,
   "id": "9a77b208-76b3-44ba-87ab-385cebcfc908",
   "metadata": {},
   "outputs": [],
   "source": []
  }
 ],
 "metadata": {
  "kernelspec": {
   "display_name": "myenv",
   "language": "python",
   "name": "myenv"
  },
  "language_info": {
   "codemirror_mode": {
    "name": "ipython",
    "version": 3
   },
   "file_extension": ".py",
   "mimetype": "text/x-python",
   "name": "python",
   "nbconvert_exporter": "python",
   "pygments_lexer": "ipython3",
   "version": "3.12.7"
  }
 },
 "nbformat": 4,
 "nbformat_minor": 5
}
